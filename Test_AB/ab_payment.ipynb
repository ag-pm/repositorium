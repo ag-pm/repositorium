{
 "cells": [
  {
   "cell_type": "markdown",
   "metadata": {},
   "source": [
    "**Aufgabe A/B-Test**\n",
    "\n",
    "**1.1 Bedingung**\n",
    "\n",
    "Eine der Hauptaufgaben eines Analysten in unserem Team besteht darin, Experimente korrekt durchzuführen. Dazu verwenden wir die Methode des A/B-Tests. Im Rahmen des Tests wurde einer Hypothese die neue Zahlungsmethode auf der Website einer Zielgruppe vorgeschlagen, während die Kontrollgruppe die Basis-Zahlungsmethode beibehielt. Ihre Aufgabe ist es, die Ergebnisse des Experiments zu analysieren und zu entscheiden, ob es sinnvoll ist, die neue Zahlungsmethode für alle Benutzer einzuführen.\n",
    "\n",
    "**1.2 Eingabedaten**\n",
    "\n",
    "Als Eingabedaten stehen Ihnen 4 CSV-Dateien zur Verfügung:\n",
    "\n",
    "- **groups.csv** - Datei mit Informationen zur Zugehörigkeit der Benutzer zur Kontroll- oder Experimentiergruppe (A – Kontrollgruppe, B – Zielgruppe)\n",
    "- **groups_add.csv** - zusätzliche Datei mit Benutzern, die Ihnen zwei Tage nach Übermittlung der Daten geschickt wurden\n",
    "- **active_studs.csv** - Datei mit Informationen über Benutzer, die sich an den Tagen des Experiments auf der Plattform eingeloggt haben\n",
    "- **checks.csv** - Datei mit Informationen über die Zahlungen der Benutzer an den Tagen des Experiments"
   ]
  },
  {
   "cell_type": "code",
   "execution_count": 7,
   "metadata": {},
   "outputs": [],
   "source": [
    "import pandas as pd\n",
    "import numpy as np\n",
    "from scipy import stats\n",
    "import seaborn as sns\n",
    "import matplotlib.pyplot as plt"
   ]
  },
  {
   "cell_type": "code",
   "execution_count": 8,
   "metadata": {},
   "outputs": [
    {
     "name": "stdout",
     "output_type": "stream",
     "text": [
      "     id grp\n",
      "0  1489   B\n",
      "1  1627   A\n",
      "2  1768   B\n",
      "3  1783   B\n",
      "4  1794   A\n",
      "      id,grp\n",
      "0  5694584,B\n",
      "1  5694830,B\n",
      "2  5695057,B\n",
      "3  5698872,B\n",
      "4  5699067,B\n",
      "  student_id;\"rev\"\n",
      "0       1627;990.0\n",
      "1       3185;690.0\n",
      "2      25973;690.0\n",
      "3      26280;690.0\n",
      "4     100300;990.0\n"
     ]
    }
   ],
   "source": [
    "# Daten laden\n",
    "groups = pd.read_csv('P_2_groups.csv', sep=';')\n",
    "groups_add = pd.read_csv('P_2_group_add.csv', sep=';')\n",
    "active_studs = pd.read_csv('P_2_active_studs.csv')\n",
    "checks = pd.read_csv('P_2_checks.csv')\n",
    "\n",
    "# Sicherstellen, dass die DataFrames korrekt geladen wurden\n",
    "print(groups.head())\n",
    "print(groups_add.head())\n",
    "\n",
    "# Überprüfen auf leere Werte und Duplikate unter Berücksichtigung der Korrekturen\n",
    "groups_combined = pd.concat([groups, groups_add], ignore_index=True)\n",
    "\n",
    "empty_values_corrected = {\n",
    "    \"groups_combined\": groups_combined.isnull().sum(),}\n",
    "\n",
    "duplicates_corrected = {\n",
    "    \"groups_combined\": groups_combined.duplicated().sum(),}\n",
    "\n",
    "# Ergebnisse ausgeben\n",
    "empty_values_corrected, duplicates_corrected\n",
    "\n",
    "# Daten in 'checks' verarbeiten und gegebenenfalls in das erforderliche Format konvertieren\n",
    "print(checks.head())"
   ]
  },
  {
   "cell_type": "markdown",
   "metadata": {},
   "source": [
    "# Nächster Schritt: Kombinieren der Daten\n",
    "\n",
    "Der nächste Schritt besteht darin, die Daten über aktive Benutzer und Zahlungen mit den Informationen zu den Gruppen zu kombinieren. Zunächst muss sichergestellt werden, dass alle Daten korrekt verarbeitet und bereit für die Analyse sind.\n",
    "\n",
    "Es ist wichtig zu beachten, dass die Daten in den Dateien `groups_add.csv` und `checks.csv` aufgrund ihres Formats besondere Verarbeitung erfordern:\n",
    "\n",
    "- **`groups_add.csv`**: Die Daten sind im Format `id,grp` dargestellt, wobei `id` und `grp` durch ein Komma getrennt sind.\n",
    "- **`checks.csv`**: Die Daten sind im Format `student_id;\"rev\"` dargestellt, wobei `student_id` und `rev` durch ein Semikolon und Anführungszeichen getrennt sind."
   ]
  },
  {
   "cell_type": "code",
   "execution_count": 9,
   "metadata": {
    "scrolled": true
   },
   "outputs": [
    {
     "name": "stdout",
     "output_type": "stream",
     "text": [
      "Leere Werte in groups_combined: id     0\n",
      "grp    0\n",
      "dtype: int64\n",
      "Duplikate in groups_combined: 0\n",
      "Leere Werte in checks: student_id    0\n",
      "rev           0\n",
      "dtype: int64\n",
      "Duplikate in checks: 0\n",
      "     id grp\n",
      "0  1489   B\n",
      "1  1627   A\n",
      "2  1768   B\n",
      "3  1783   B\n",
      "4  1794   A\n",
      "   student_id    rev\n",
      "0        1627  990.0\n",
      "1        3185  690.0\n",
      "2       25973  690.0\n",
      "3       26280  690.0\n",
      "4      100300  990.0\n"
     ]
    }
   ],
   "source": [
    "# Aufteilen der 'id,grp' in zwei separate Spalten und Entfernen der ursprünglichen Spalte\n",
    "groups_add[['id', 'grp']] = groups_add['id,grp'].str.split(',', expand=True)\n",
    "groups_add = groups_add.drop(columns=['id,grp'])  # Entfernen der ursprünglichen Spalte\n",
    "groups_add['id'] = groups_add['id'].astype(int)  # Umwandeln von 'id' in einen Ganzzahltyp\n",
    "\n",
    "# Aufteilen der 'student_id;\"rev\"' in zwei separate Spalten und Entfernen der ursprünglichen Spalte\n",
    "checks[['student_id', 'rev']] = checks['student_id;\"rev\"'].str.split(';', expand=True)\n",
    "checks = checks.drop(columns=['student_id;\"rev\"'])  # Entfernen der ursprünglichen Spalte\n",
    "checks['student_id'] = checks['student_id'].astype(int)  # Umwandeln von 'student_id' in einen Ganzzahltyp\n",
    "checks['rev'] = checks['rev'].astype(float)  # Umwandeln von 'rev' in einen numerischen Typ\n",
    "\n",
    "# Zusammenführen der Gruppendaten\n",
    "groups_combined = pd.concat([groups, groups_add], ignore_index=True)\n",
    "\n",
    "# Überprüfen auf leere Werte und Duplikate nach der Verarbeitung\n",
    "print(\"Leere Werte in groups_combined:\", groups_combined.isnull().sum())\n",
    "print(\"Duplikate in groups_combined:\", groups_combined.duplicated().sum())\n",
    "\n",
    "print(\"Leere Werte in checks:\", checks.isnull().sum())\n",
    "print(\"Duplikate in checks:\", checks.duplicated().sum())\n",
    "\n",
    "# Ausgabe der verarbeiteten Daten\n",
    "print(groups_combined.head())\n",
    "print(checks.head())"
   ]
  },
  {
   "cell_type": "markdown",
   "metadata": {},
   "source": [
    "# Datenvorbereitung abgeschlossen\n",
    "\n",
    "Die Daten sind vorbereitet und überprüft. Wir können nun zu den nächsten Schritten der Analyse übergehen. Unser Ziel ist es, die Informationen über aktive Benutzer, ihre Gruppen und Zahlungen zu kombinieren, um die wesentlichen Fragen des Experiments zu beantworten."
   ]
  },
  {
   "cell_type": "code",
   "execution_count": 10,
   "metadata": {
    "scrolled": true
   },
   "outputs": [
    {
     "name": "stdout",
     "output_type": "stream",
     "text": [
      "Kaufkonversion nach Gruppen:\n",
      " grp\n",
      "B    0.063795\n",
      "A    0.069571\n",
      "Name: count, dtype: float64\n",
      "\n",
      "Durchschnittlicher Umsatz nach Gruppen:\n",
      " grp\n",
      "A     860.710280\n",
      "B    1108.824893\n",
      "Name: rev, dtype: float64\n",
      "\n",
      "Gesamter Umsatz nach Gruppen:\n",
      " grp\n",
      "A     92096.0000\n",
      "B    481230.0036\n",
      "Name: rev, dtype: float64\n",
      "\n",
      "T-Statistik: -2.8670185482728643\n",
      "P-Wert: 0.004731862454849822\n"
     ]
    }
   ],
   "source": [
    "# Spaltennamen in active_studs umbenennen, um sie an groups_combined anzupassen\n",
    "active_studs = active_studs.rename(columns={'student_id': 'id'})\n",
    "\n",
    "# Daten zusammenführen, wobei 'id' als Schlüssel verwendet wird\n",
    "active_groups = pd.merge(active_studs, groups_combined, on='id', how='inner')\n",
    "\n",
    "# Daten über Zahlungen mit den Gruppen zusammenführen, dabei die richtigen Spaltennamen verwenden\n",
    "checks_groups = pd.merge(checks, groups_combined, left_on='student_id', right_on='id', how='inner')\n",
    "\n",
    "# Berechnung der Hauptkennzahlen\n",
    "# Kaufkonversion\n",
    "conversion_rate = checks_groups['grp'].value_counts() / active_groups['grp'].value_counts()\n",
    "\n",
    "# Durchschnittlicher Umsatz pro Gruppe\n",
    "average_check = checks_groups.groupby('grp')['rev'].mean()\n",
    "\n",
    "# Gesamter Umsatz pro Gruppe\n",
    "total_revenue = checks_groups.groupby('grp')['rev'].sum()\n",
    "\n",
    "# Ergebnisse der Berechnungen ausgeben\n",
    "print(\"Kaufkonversion nach Gruppen:\\n\", conversion_rate)\n",
    "print(\"\\nDurchschnittlicher Umsatz nach Gruppen:\\n\", average_check)\n",
    "print(\"\\nGesamter Umsatz nach Gruppen:\\n\", total_revenue)\n",
    "\n",
    "# Überprüfung der statistischen Signifikanz der Unterschiede\n",
    "# Vergleich des durchschnittlichen Umsatzes zwischen den beiden Gruppen\n",
    "t_stat, p_value = stats.ttest_ind(checks_groups[checks_groups['grp'] == 'A']['rev'],\n",
    "                                   checks_groups[checks_groups['grp'] == 'B']['rev'],\n",
    "                                   equal_var=False)\n",
    "\n",
    "print(\"\\nT-Statistik:\", t_stat)\n",
    "print(\"P-Wert:\", p_value)"
   ]
  },
  {
   "cell_type": "markdown",
   "metadata": {},
   "source": [
    "# Ergebnisse der Analyse\n",
    "\n",
    "Die Analyse liefert wertvolle Informationen darüber, wie die neue Zahlungsmethode das Benutzerverhalten und die finanziellen Kennzahlen beeinflusst hat. Die wichtigsten Kennzahlen, die untersucht wurden, sind:\n",
    "\n",
    "## Kaufkonversion\n",
    "\n",
    "Diese Kennzahl zeigt den Prozentsatz der aktiven Benutzer, die einen Kauf getätigt haben. Sie ist wichtig, da sie die Effektivität der Zahlungsmethode bei der Anreizung von Benutzern zu finanziellen Transaktionen widerspiegelt.\n",
    "\n",
    "- **Kontrollgruppe A**: Die Konversion beträgt etwa 6,96%.\n",
    "- **Experimentiergruppe B**: Die Konversion beträgt etwa 6,38%.\n",
    "\n",
    "Obwohl die Konversion in der Experimentiergruppe B etwas niedriger ist als in der Kontrollgruppe A, ist der Unterschied nicht signifikant. Dies deutet darauf hin, dass die neue Zahlungsmethode die Wahrscheinlichkeit eines Kaufs unter aktiven Benutzern nicht wesentlich gesenkt hat.\n",
    "\n",
    "## Durchschnittlicher Umsatz\n",
    "\n",
    "Diese Kennzahl zeigt den durchschnittlichen Betrag, den ein Benutzer pro Kauf ausgibt. Sie ist wichtig, um zu verstehen, wie vorteilhaft das Angebot für das Unternehmen aus Sicht der Einnahmen pro Benutzer ist.\n",
    "\n",
    "- **Gruppe A**: Der durchschnittliche Umsatz beträgt 860,71 Einheiten.\n",
    "- **Gruppe B**: Der durchschnittliche Umsatz liegt deutlich höher bei 1108,82 Einheiten.\n",
    "\n",
    "Das höhere durchschnittliche Umsatzniveau in der Experimentiergruppe B deutet darauf hin, dass Benutzer, die die neue Zahlungsmethode ausprobiert haben, bereit sind, mehr auszugeben.\n",
    "\n",
    "## Gesamteinnahmen\n",
    "\n",
    "Diese Kennzahl summiert die Einnahmen aus allen Käufen in jeder Gruppe. Sie ist wichtig, um den gesamten finanziellen Nutzen der Einführung der neuen Zahlungsmethode zu bewerten.\n",
    "\n",
    "- **Gruppe A**: Die Gesamteinnahmen betragen 92.096 Einheiten.\n",
    "- **Gruppe B**: Die Gesamteinnahmen sind deutlich höher bei 481.230 Einheiten.\n",
    "\n",
    "Der Unterschied in den Gesamteinnahmen zwischen den Gruppen bestätigt den positiven Einfluss der neuen Zahlungsmethode auf die finanziellen Kennzahlen.\n",
    "\n",
    "## Unterschiede und mögliche Gründe\n",
    "\n",
    "Ja, es gibt Unterschiede in den Kennzahlen zwischen den Gruppen:\n",
    "\n",
    "- Die Kaufkonversion ist in der Experimentiergruppe B etwas niedriger, was möglicherweise mit einem höheren Einstiegshürde oder der Schwierigkeit, sich an die neue Zahlungsmethode zu gewöhnen, zusammenhängt.\n",
    "- Der durchschnittliche Umsatz und die Gesamteinnahmen sind in der Gruppe B erheblich höher, was darauf hinweist, dass die Benutzer, die die neue Zahlungsmethode verwendet haben, bereit sind, mehr auszugeben.\n",
    "\n",
    "## Statistische Signifikanz\n",
    "\n",
    "- **T-Statistik**: -2,867\n",
    "- **P-Wert**: 0,0047\n",
    "\n",
    "Die Unterschiede im durchschnittlichen Umsatz zwischen den Gruppen sind statistisch signifikant, wie der p-Wert von 0,0047 zeigt, der unter dem üblichen Signifikanzniveau von 0,05 liegt. Dies bedeutet, dass die beobachteten Unterschiede im durchschnittlichen Umsatz nicht zufällig sind und daher statistische Signifikanz besitzen.\n",
    "\n",
    "## Empfehlung für die Einführung\n",
    "\n",
    "Aufgrund der durchgeführten Analyse erscheint es sinnvoll, die neue Zahlungsmethode für alle Benutzer einzuführen. Die neue Zahlungsmethode hat zu einem signifikanten Anstieg des durchschnittlichen Umsatzes und der Gesamteinnahmen geführt, obwohl die Kaufkonversion nur geringfügig gesenkt wurde. Die Unterschiede im durchschnittlichen Umsatz sind statistisch signifikant. Daher wird empfohlen, die neue Zahlungsmethode allen Benutzern anzubieten, da sie zur Steigerung der Unternehmensgewinne beiträgt."
   ]
  },
  {
   "cell_type": "code",
   "execution_count": null,
   "metadata": {},
   "outputs": [],
   "source": []
  }
 ],
 "metadata": {
  "kernelspec": {
   "display_name": "anaconda-panel-2023.05-py310",
   "language": "python",
   "name": "conda-env-anaconda-panel-2023.05-py310-py"
  },
  "language_info": {
   "codemirror_mode": {
    "name": "ipython",
    "version": 3
   },
   "file_extension": ".py",
   "mimetype": "text/x-python",
   "name": "python",
   "nbconvert_exporter": "python",
   "pygments_lexer": "ipython3",
   "version": "3.11.5"
  }
 },
 "nbformat": 4,
 "nbformat_minor": 4
}
